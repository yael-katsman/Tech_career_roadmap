{
  "nbformat": 4,
  "nbformat_minor": 0,
  "metadata": {
    "colab": {
      "provenance": [],
      "authorship_tag": "ABX9TyOJ6OH1hA+Itn0fBb+TVZ4t"
    },
    "kernelspec": {
      "name": "python3",
      "display_name": "Python 3"
    },
    "language_info": {
      "name": "python"
    }
  },
  "cells": [
    {
      "cell_type": "code",
      "execution_count": null,
      "metadata": {
        "id": "DYEH2JSP75Jb"
      },
      "outputs": [],
      "source": [
        "import ipywidgets as widgets\n",
        "from IPython.display import display\n",
        "import pandas as pd\n",
        "from io import StringIO\n",
        "\n",
        "# Create a file upload widget\n",
        "uploader = widgets.FileUpload(\n",
        "    accept='.csv',  # Accept .csv files only\n",
        "    multiple=False  # Allow uploading a single file\n",
        ")\n",
        "display(uploader)\n"
      ]
    },
    {
      "cell_type": "code",
      "source": [
        "def process_uploaded_file(uploader):\n",
        "    if uploader.value:\n",
        "        # Extract uploaded file's content\n",
        "        uploaded_filename = next(iter(uploader.value))\n",
        "        content = uploader.value[uploaded_filename]['content']\n",
        "        content_str = StringIO(content.decode('utf-8'))\n",
        "\n",
        "        # Use pandas to read the CSV content\n",
        "        df = pd.read_csv(content_str)\n",
        "        return df\n",
        "    else:\n",
        "        return None\n",
        "\n",
        "# Use this function to get the dataframe\n",
        "df = process_uploaded_file(uploader)\n",
        "\n",
        "if df is not None:\n",
        "    # Now you can work with the dataframe\n",
        "    print(df.head())\n",
        "else:\n",
        "    print(\"No file uploaded.\")\n"
      ],
      "metadata": {
        "id": "qUnrfka08KnR"
      },
      "execution_count": null,
      "outputs": []
    }
  ]
}