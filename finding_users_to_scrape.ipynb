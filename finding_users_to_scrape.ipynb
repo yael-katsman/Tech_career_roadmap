{
  "cells": [
    {
      "cell_type": "code",
      "execution_count": null,
      "metadata": {
        "application/vnd.databricks.v1+cell": {
          "cellMetadata": {
            "byteLimit": 2048000,
            "rowLimit": 10000
          },
          "inputWidgets": {},
          "nuid": "a14307cb-c9a1-4044-9d95-7c805fa2375b",
          "showTitle": false,
          "title": ""
        },
        "id": "nA9j8eSRHdP9"
      },
      "outputs": [],
      "source": [
        "from pyspark.sql.types import *\n",
        "import pyspark\n",
        "from pyspark.sql import SparkSession\n",
        "from pyspark.sql import functions as F\n",
        "from pyspark.sql.functions import col, explode, size, array_distinct,collect_list,expr, array_contains, rank,lower,avg, expr, when,mean,split,first,array\n",
        "import pandas as pd\n",
        "import matplotlib.pyplot as plt\n",
        "from pyspark.ml.feature import VectorAssembler, StringIndexer\n",
        "\n",
        "pd.set_option('display.max_columns', None)\n",
        "pd.set_option('display.width', 1000)\n",
        "\n",
        "spark = SparkSession.builder.getOrCreate()"
      ]
    },
    {
      "cell_type": "markdown",
      "metadata": {
        "application/vnd.databricks.v1+cell": {
          "cellMetadata": {
            "byteLimit": 2048000,
            "rowLimit": 10000
          },
          "inputWidgets": {},
          "nuid": "be36157c-c244-4ea1-a6a4-c1c2eb4913f9",
          "showTitle": false,
          "title": ""
        },
        "id": "fZXgt8BFHdP-"
      },
      "source": []
    },
    {
      "cell_type": "code",
      "source": [
        "profiles = spark.read.parquet('/linkedin/people')\n"
      ],
      "metadata": {
        "id": "oxlTK7QYIOyr"
      },
      "execution_count": null,
      "outputs": []
    },
    {
      "cell_type": "code",
      "execution_count": null,
      "metadata": {
        "application/vnd.databricks.v1+cell": {
          "cellMetadata": {
            "byteLimit": 2048000,
            "rowLimit": 10000
          },
          "inputWidgets": {},
          "nuid": "cc1ef8e6-9b2c-4f7e-9098-1d5186bc6f40",
          "showTitle": false,
          "title": ""
        },
        "id": "nXNwATSoHdQA",
        "outputId": "94f4d165-5f80-4978-b080-e9e7ca2d035f"
      },
      "outputs": [
        {
          "output_type": "stream",
          "name": "stdout",
          "text": [
            "+---------------------------------------------------------------------------------------------------------------------------------+\n|position                                                                                                                         |\n+---------------------------------------------------------------------------------------------------------------------------------+\n|Senior Software Engineer at Google                                                                                               |\n|Engineering Manager at Google Search                                                                                             |\n|Startup Marketing Manager for Google Cloud                                                                                       |\n|Graduate Student at Google                                                                                                       |\n|Technical Program Manager                                                                                                        |\n|Software Engineer @ Google | ex-AWS                                                                                              |\n|Product, XR@Google                                                                                                               |\n|Researcher at Google Brain                                                                                                       |\n|Creating a community out of a chaotic world with the use of the biggest platform around                                          |\n|A confident and trusted receptionist assistant with a solid diverse history in hospitality, facility management, and office life.|\n|Communications @Google ☁️ | Past: @NYTimes                                                                                       |\n|Staff UX Designer, Google Ads Privacy and Safety                                                                                 |\n|Software @ Google                                                                                                                |\n|Growth Marketing at Google                                                                                                       |\n|People Analytics Research at Google                                                                                              |\n|ASIC/FPGA Design Engineer                                                                                                        |\n|null                                                                                                                             |\n|Europe Refugee Coalition Program Manager at Google                                                                               |\n|Manager, Data Science @Google                                                                                                    |\n|Strategy and Operations                                                                                                          |\n|Staff Software Engineer at Google                                                                                                |\n|Former strategy @ Google                                                                                                         |\n|Program Manager at Google                                                                                                        |\n|.                                                                                                                                |\n|Corporate Development at Google                                                                                                  |\n|Senior Staff Software Engineer at Google                                                                                         |\n|Technical Program Manager at Google                                                                                              |\n|Student at Santa Barbara City College                                                                                            |\n|Florida Gator and Harvard MBA Grad                                                                                               |\n|Global Product Lead at Google                                                                                                    |\n|Global Head of DEI @ Google [Technology & Society + Labs + Research Product Areas]                                               |\n|SWE @ Google                                                                                                                     |\n|Google SWE                                                                                                                       |\n|Software Engineer at Google                                                                                                      |\n|Educator and Inclusion Lead at Google Children's Centers                                                                         |\n|Software Engineer Google                                                                                                         |\n|Software Engineer @ Google                                                                                                       |\n|Software Engineer at Google NYC                                                                                                  |\n|Google | Ex-Paypal, Ex-MuSigma                                                                                                   |\n|Analytics at Google                                                                                                              |\n|Enterprise Sales at Google Cloud                                                                                                 |\n|Staff Software Engineer - Home App and Nest App at Google                                                                        |\n|Senior Network Architect at Google                                                                                               |\n|Staff Research Scientist at Google                                                                                               |\n|Senior UX writer — currently at Google, formerly at Apple                                                                        |\n|IT Professional                                                                                                                  |\n|Head of Firebase Developer Relations, Google                                                                                     |\n|Senior UX Researcher at Google                                                                                                   |\n|Product Manager at Google                                                                                                        |\n|Lead Recruiter at Google| Recruiting UX                                                                                          |\n|Staff UX Research Manager at Google                                                                                              |\n|Cloud Infrastructure Engineer at Google                                                                                          |\n|Global Video & Brand Measurement Go-to-Market                                                                                    |\n|Engineering Manager @ Google                                                                                                     |\n|busy getting good                                                                                                                |\n|Comm Engagement PgM                                                                                                              |\n|Wireless and Cellular Systems Engineering, Technical Account Manager, Technical Product Manager, Mentor                          |\n|Working on the future of computing                                                                                               |\n|User Researcher at Google                                                                                                        |\n|Software Engineer / Machine Learning Software Engineer                                                                           |\n|Senior UX Engineer at Google                                                                                                     |\n|Agency Lead, Search Ads 360 at Google                                                                                            |\n|Data Scientist @ Google                                                                                                          |\n|Senior Staff Software Engineer at Google, Ex-Facebook                                                                            |\n|Staffing at Google                                                                                                               |\n|Head of Agency Operations and Analytics at Google                                                                                |\n|Software Engineer at Google | UCLA                                                                                               |\n|Recruiting Software Engineers at Google | DEI Advocate                                                                           |\n|Local Data Quality Evaluator at Google                                                                                           |\n|Key Account Executive at Google                                                                                                  |\n|Software Engineer, Machine Learning at Google                                                                                    |\n|Account Executive @ Google                                                                                                       |\n|Team Lead at Google Fiber | Father | Husband | Seattle Mariners Fan                                                              |\n|Digital Marketing Strategy and Analytics @ Google                                                                                |\n|Test Engineer at Google                                                                                                          |\n|Product Marketing Manager at Google                                                                                              |\n|Pun Intender at Google                                                                                                           |\n|Data Analytics at Google Cloud                                                                                                   |\n|Freelance                                                                                                                        |\n|Marketing Operations at Google                                                                                                   |\n|Aoto at Google                                                                                                                   |\n|Senior Designer at Google Lens                                                                                                   |\n|Engineering Director @ Google                                                                                                    |\n|Global Measurement Sales Enablement Lead || Google                                                                               |\n|Retired at Google                                                                                                                |\n|Growth Manager at Google                                                                                                         |\n|Senior Cloud Program Manager at Google                                                                                           |\n|Manager at Google                                                                                                                |\n|Program Management | Portfolio Management | Growth | Strategy| Cloud Platforms                                                   |\n|Software Engineer III at Google                                                                                                  |\n|Intelligence Enablement Consultant | Cyber Threat Intelligence | Threat Hunting                                                  |\n|Tech Lead Manager, gTech Professional Services                                                                                   |\n|Software Engineering Manager at Google                                                                                           |\n|DevOps and System Builder with a long history of embedded systems                                                                |\n|Software Engineer                                                                                                                |\n|Senior Program Manager, Google | Lean Six Sigma Green Belt                                                                       |\n|Quantum Computing Research Scientist at Google Quantum AI                                                                        |\n|Data Science @ Google                                                                                                            |\n|Sr. Director of Product, Search Generative Experience, Google                                                                    |\n|Senior Executive Recruiter @ Google | Engineering, Product, Technical Program Management                                         |\n+---------------------------------------------------------------------------------------------------------------------------------+\nonly showing top 100 rows\n\n"
          ]
        }
      ],
      "source": [
        "users = profiles.withColumnRenamed(\"current_company:name\",\"c_name\")\n",
        "users = users.withColumn(\"c_name\", lower(users[\"c_name\"]))\n",
        "l = ['yahoo','google','nvidia','microsoft','meta','amazon','apple','intel','oracle','zoom','netflix','spotify','sap','dell','tesla','cisco','linkedin','adobe','qualcomm','amd']\n",
        "\n",
        "users.filter(users['c_name'] == 'google').select(\"position\").distinct().show(100,truncate=False)"
      ]
    },
    {
      "cell_type": "code",
      "execution_count": null,
      "metadata": {
        "application/vnd.databricks.v1+cell": {
          "cellMetadata": {
            "byteLimit": 2048000,
            "rowLimit": 10000
          },
          "inputWidgets": {},
          "nuid": "e09803f1-caac-4eac-9cef-bff9656e2802",
          "showTitle": false,
          "title": ""
        },
        "id": "Q5EzoG0sHdQA",
        "outputId": "153103b5-9670-4220-d48e-5b2fa08838ff"
      },
      "outputs": [
        {
          "output_type": "stream",
          "name": "stdout",
          "text": [
            "14718\n"
          ]
        }
      ],
      "source": [
        "#print(users.filter(users['c_name'] == 'intel').count())\n",
        "FAANG_users = users.filter(users['c_name'].isin(l))\n",
        "#target_users.display()\n",
        "print(FAANG_users.count())\n"
      ]
    },
    {
      "cell_type": "code",
      "execution_count": null,
      "metadata": {
        "application/vnd.databricks.v1+cell": {
          "cellMetadata": {
            "byteLimit": 2048000,
            "rowLimit": 10000
          },
          "inputWidgets": {},
          "nuid": "402a5e47-d2a8-4dc6-a44f-e7ab0d8bfaa4",
          "showTitle": false,
          "title": ""
        },
        "id": "MMGZOUqFHdQB",
        "outputId": "aae6398b-01f1-4590-b001-6b4bd77180ad"
      },
      "outputs": [
        {
          "output_type": "stream",
          "name": "stdout",
          "text": [
            "Out[13]: 4513"
          ]
        }
      ],
      "source": [
        "FAANG_users = FAANG_users.withColumn(\"position_small\", lower(col(\"position\")))\n",
        "words = [\"engineer\", \"cloud\", \"software\", \"aiml\", \"engineering\",\"data\", \"machine learning\",\"ml\",\"quality assurance\",\"qa\",\"r&d\",\"cyber\",\"security\"]\n",
        "tech_users = FAANG_users.filter(col(\"position_small\").rlike(\"|\".join(words)))\n",
        "\n",
        "words_to_exclude = [\"marketing\", \"sales\", \"artist\",\"dei\", \"helpdesk\",\"assistant\",\"secretary\", \"null\",\"account\",\"accounts\",\"accounting\",\"area\",\"retired\", \"human\",\"social\",\"student\",\"manager\",\"art\"]\n",
        "tech_users = tech_users.filter(~col(\"position_small\").rlike(\"|\".join(words_to_exclude)))\n",
        "\n",
        "positions_list = tech_users.select(\"position_small\").rdd.map(lambda row: row[0]).collect()\n",
        "#print(len(positions_list))\n",
        "tech_users.count()\n",
        "#tech_users =tech_users.select(\"id\",\"position\",\"url\")\n",
        "#tech_users.sample(fraction=0.0014, seed=42).show(truncate=False)"
      ]
    }
  ],
  "metadata": {
    "application/vnd.databricks.v1+notebook": {
      "dashboards": [],
      "language": "python",
      "notebookMetadata": {
        "pythonIndentUnit": 4
      },
      "notebookName": "Project_workshop",
      "widgets": {}
    },
    "colab": {
      "provenance": []
    }
  },
  "nbformat": 4,
  "nbformat_minor": 0
}